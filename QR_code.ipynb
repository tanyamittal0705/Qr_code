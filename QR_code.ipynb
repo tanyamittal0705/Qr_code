{
 "cells": [
  {
   "cell_type": "code",
   "execution_count": 1,
   "id": "a219316b-b0a3-46ac-926e-809ee8f2a7b2",
   "metadata": {},
   "outputs": [
    {
     "name": "stdout",
     "output_type": "stream",
     "text": [
      "Collecting qrcode\n",
      "  Downloading qrcode-7.4.2-py3-none-any.whl (46 kB)\n",
      "     ---------------------------------------- 0.0/46.2 kB ? eta -:--:--\n",
      "     -------- ------------------------------- 10.2/46.2 kB ? eta -:--:--\n",
      "     -------- ------------------------------- 10.2/46.2 kB ? eta -:--:--\n",
      "     ---------------- --------------------- 20.5/46.2 kB 108.9 kB/s eta 0:00:01\n",
      "     ---------------- --------------------- 20.5/46.2 kB 108.9 kB/s eta 0:00:01\n",
      "     --------------------------------- ---- 41.0/46.2 kB 151.3 kB/s eta 0:00:01\n",
      "     -------------------------------------- 46.2/46.2 kB 153.0 kB/s eta 0:00:00\n",
      "Collecting typing-extensions (from qrcode)\n",
      "  Obtaining dependency information for typing-extensions from https://files.pythonhosted.org/packages/24/21/7d397a4b7934ff4028987914ac1044d3b7d52712f30e2ac7a2ae5bc86dd0/typing_extensions-4.8.0-py3-none-any.whl.metadata\n",
      "  Downloading typing_extensions-4.8.0-py3-none-any.whl.metadata (3.0 kB)\n",
      "Collecting pypng (from qrcode)\n",
      "  Downloading pypng-0.20220715.0-py3-none-any.whl (58 kB)\n",
      "     ---------------------------------------- 0.0/58.1 kB ? eta -:--:--\n",
      "     ---------------------------------------- 0.0/58.1 kB ? eta -:--:--\n",
      "     --------------------- ------------------ 30.7/58.1 kB 1.3 MB/s eta 0:00:01\n",
      "     --------------------- ------------------ 30.7/58.1 kB 1.3 MB/s eta 0:00:01\n",
      "     -------------------------- ----------- 41.0/58.1 kB 393.8 kB/s eta 0:00:01\n",
      "     -------------------------------------- 58.1/58.1 kB 339.1 kB/s eta 0:00:00\n",
      "Requirement already satisfied: colorama in c:\\users\\admin\\appdata\\local\\programs\\python\\python311\\lib\\site-packages (from qrcode) (0.4.6)\n",
      "Downloading typing_extensions-4.8.0-py3-none-any.whl (31 kB)\n",
      "Installing collected packages: pypng, typing-extensions, qrcode\n",
      "Successfully installed pypng-0.20220715.0 qrcode-7.4.2 typing-extensions-4.8.0\n",
      "Note: you may need to restart the kernel to use updated packages.\n"
     ]
    },
    {
     "name": "stderr",
     "output_type": "stream",
     "text": [
      "\n",
      "[notice] A new release of pip is available: 23.2.1 -> 23.3.1\n",
      "[notice] To update, run: python.exe -m pip install --upgrade pip\n"
     ]
    }
   ],
   "source": [
    "pip install qrcode"
   ]
  },
  {
   "cell_type": "code",
   "execution_count": 2,
   "id": "28d2fdc9-ffe4-420b-a134-c4e4e37199ab",
   "metadata": {},
   "outputs": [],
   "source": [
    "import qrcode as qr"
   ]
  },
  {
   "cell_type": "code",
   "execution_count": 3,
   "id": "82fe2cd9-d6b5-4989-b9b4-42cccb30c1f6",
   "metadata": {},
   "outputs": [],
   "source": [
    "tanya=qr.make(\"https://www.linkedin.com/in/tanya-mittal-0165a3251/\")"
   ]
  },
  {
   "cell_type": "code",
   "execution_count": 4,
   "id": "3bf5efd8-b125-4774-863f-3f5320d61402",
   "metadata": {},
   "outputs": [],
   "source": [
    "tanya.save(\"linkdin.png\")"
   ]
  }
 ],
 "metadata": {
  "kernelspec": {
   "display_name": "Python 3 (ipykernel)",
   "language": "python",
   "name": "python3"
  },
  "language_info": {
   "codemirror_mode": {
    "name": "ipython",
    "version": 3
   },
   "file_extension": ".py",
   "mimetype": "text/x-python",
   "name": "python",
   "nbconvert_exporter": "python",
   "pygments_lexer": "ipython3",
   "version": "3.11.5"
  }
 },
 "nbformat": 4,
 "nbformat_minor": 5
}
